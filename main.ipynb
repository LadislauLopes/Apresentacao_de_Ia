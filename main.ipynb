{
 "cells": [
  {
   "cell_type": "markdown",
   "metadata": {},
   "source": [
    "# Preparando o ambiente"
   ]
  },
  {
   "cell_type": "code",
   "execution_count": null,
   "metadata": {},
   "outputs": [],
   "source": [
    "!python.exe -m pip install --upgrade pip\n",
    "!pip install -r requirements.txt --quiet\n",
    "!pip install ultralytics --quiet\n"
   ]
  },
  {
   "cell_type": "code",
   "execution_count": 2,
   "metadata": {},
   "outputs": [],
   "source": [
    "from IPython.display import Image, clear_output\n",
    "from ultralytics import YOLO"
   ]
  },
  {
   "cell_type": "markdown",
   "metadata": {},
   "source": [
    "# Modelo Pré-Treinado Coco.names  (Common Objects in Context)"
   ]
  },
  {
   "cell_type": "markdown",
   "metadata": {},
   "source": [
    "<link rel=\"stylesheet\" href=\"styles.css\">\n",
    "\n",
    "<div>\n",
    "<h1> Classes</h1>\n",
    "<table>\n",
    "  <thead>\n",
    "  </thead>\n",
    "  <tbody>\n",
    "    <tr>\n",
    "      <td>pessoa</td>\n",
    "      <td>pássaro</td>\n",
    "      <td>mala</td>\n",
    "      <td>garfo</td>\n",
    "    </tr>\n",
    "    <tr>\n",
    "      <td>bicicleta</td>\n",
    "      <td>gato</td>\n",
    "      <td>frisbee</td>\n",
    "      <td>faca</td>\n",
    "    </tr>\n",
    "    <tr>\n",
    "      <td>carro</td>\n",
    "      <td>cachorro</td>\n",
    "      <td>esquis</td>\n",
    "      <td>colher</td>\n",
    "    </tr>\n",
    "    <tr>\n",
    "      <td>moto</td>\n",
    "      <td>cavalo</td>\n",
    "      <td>snowboard</td>\n",
    "      <td>tigela</td>\n",
    "    </tr>\n",
    "    <tr>\n",
    "      <td>avião</td>\n",
    "      <td>ovelha</td>\n",
    "      <td>bola esportiva</td>\n",
    "      <td>banana</td>\n",
    "    </tr>\n",
    "    <tr>\n",
    "      <td>ônibus</td>\n",
    "      <td>vaca</td>\n",
    "      <td>pipa</td>\n",
    "      <td>maçã</td>\n",
    "    </tr>\n",
    "    <tr>\n",
    "      <td>trem</td>\n",
    "      <td>elefante</td>\n",
    "      <td>bastão de beisebol</td>\n",
    "      <td>sanduíche</td>\n",
    "    </tr>\n",
    "    <tr>\n",
    "      <td>caminhão</td>\n",
    "      <td>urso</td>\n",
    "      <td>luva de beisebol</td>\n",
    "      <td>laranja</td>\n",
    "    </tr>\n",
    "    <tr>\n",
    "      <td>barco</td>\n",
    "      <td>zebra</td>\n",
    "      <td>skate</td>\n",
    "      <td>brócolis</td>\n",
    "    </tr>\n",
    "    <tr>\n",
    "      <td>semáforo</td>\n",
    "      <td>girafa</td>\n",
    "      <td>prancha de surf</td>\n",
    "      <td>cenoura</td>\n",
    "    </tr>\n",
    "    <tr>\n",
    "      <td>hidrante</td>\n",
    "      <td>mochila</td>\n",
    "      <td>raquete de tênis</td>\n",
    "      <td>cachorro-quente</td>\n",
    "    </tr>\n",
    "    <tr>\n",
    "      <td>placa de parada</td>\n",
    "      <td>guarda-chuva</td>\n",
    "      <td>garrafa</td>\n",
    "      <td>pizza</td>\n",
    "    </tr>\n",
    "    <tr>\n",
    "      <td>parquímetro</td>\n",
    "      <td>bolsa</td>\n",
    "      <td>taça de vinho</td>\n",
    "      <td>donut</td>\n",
    "    </tr>\n",
    "    <tr>\n",
    "      <td>banco</td>\n",
    "      <td>gravata</td>\n",
    "      <td>copo</td>\n",
    "      <td>bolo</td>\n",
    "    </tr>\n",
    "  </tbody>\n",
    "</table>\n",
    "</div>\n"
   ]
  },
  {
   "cell_type": "markdown",
   "metadata": {},
   "source": [
    "## Aplicando em imagem\n"
   ]
  },
  {
   "cell_type": "markdown",
   "metadata": {},
   "source": [
    "<link rel=\"stylesheet\" href=\"styles.css\">\n",
    "\n",
    "<div>\n",
    "<img src='assets\\kite.jpg' width=900>\n",
    "</div>"
   ]
  },
  {
   "cell_type": "markdown",
   "metadata": {},
   "source": [
    "<link rel=\"stylesheet\" href=\"styles.css\">\n",
    "<h1>Dectecção de objetos</h1>"
   ]
  },
  {
   "cell_type": "code",
   "execution_count": null,
   "metadata": {},
   "outputs": [],
   "source": [
    "\n",
    "Model = YOLO(\"yolov8x.pt\")\n",
    "\n",
    "results = Model(r'assets\\kite.jpg',visualize=True)\n",
    "for result in results:\n",
    "  boxes = result.boxes\n",
    "  probs = result.probs \n",
    "  result.save(filename=r'assets\\kite_det.jpg')\n",
    "Image(filename=r'assets\\kite_det.jpg',width=900)"
   ]
  },
  {
   "cell_type": "markdown",
   "metadata": {},
   "source": [
    "<link rel=\"stylesheet\" href=\"styles.css\">\n",
    "<h1> Classes</h1>\n",
    "<table>\n",
    "  <thead>\n",
    "  </thead>\n",
    "  <tbody>\n",
    "    <tr>\n",
    "      <td class=\"achado\">pessoa</td>\n",
    "      <td>pássaro</td>\n",
    "      <td>mala</td>\n",
    "      <td>garfo</td>\n",
    "    </tr>\n",
    "    <tr>\n",
    "      <td>bicicleta</td>\n",
    "      <td>gato</td>\n",
    "      <td>frisbee</td>\n",
    "      <td>faca</td>\n",
    "    </tr>\n",
    "    <tr>\n",
    "      <td>carro</td>\n",
    "      <td>cachorro</td>\n",
    "      <td>esquis</td>\n",
    "      <td>colher</td>\n",
    "    </tr>\n",
    "    <tr>\n",
    "      <td>moto</td>\n",
    "      <td>cavalo</td>\n",
    "      <td>snowboard</td>\n",
    "      <td>tigela</td>\n",
    "    </tr>\n",
    "    <tr>\n",
    "      <td>avião</td>\n",
    "      <td>ovelha</td>\n",
    "      <td>bola esportiva</td>\n",
    "      <td>banana</td>\n",
    "    </tr>\n",
    "    <tr>\n",
    "      <td>ônibus</td>\n",
    "      <td>vaca</td>\n",
    "      <td class=\"achado\">pipa</td>\n",
    "      <td>maçã</td>\n",
    "    </tr>\n",
    "    <tr>\n",
    "      <td>trem</td>\n",
    "      <td>elefante</td>\n",
    "      <td>bastão de beisebol</td>\n",
    "      <td>sanduíche</td>\n",
    "    </tr>\n",
    "    <tr>\n",
    "      <td>caminhão</td>\n",
    "      <td>urso</td>\n",
    "      <td>luva de beisebol</td>\n",
    "      <td>laranja</td>\n",
    "    </tr>\n",
    "    <tr>\n",
    "      <td>barco</td>\n",
    "      <td>zebra</td>\n",
    "      <td>skate</td>\n",
    "      <td>brócolis</td>\n",
    "    </tr>\n",
    "    <tr>\n",
    "      <td>semáforo</td>\n",
    "      <td>girafa</td>\n",
    "      <td>prancha de surf</td>\n",
    "      <td>cenoura</td>\n",
    "    </tr>\n",
    "    <tr>\n",
    "      <td>hidrante</td>\n",
    "      <td>mochila</td>\n",
    "      <td>raquete de tênis</td>\n",
    "      <td>cachorro-quente</td>\n",
    "    </tr>\n",
    "    <tr>\n",
    "      <td>placa de parada</td>\n",
    "      <td>guarda-chuva</td>\n",
    "      <td>garrafa</td>\n",
    "      <td>pizza</td>\n",
    "    </tr>\n",
    "    <tr>\n",
    "      <td>parquímetro</td>\n",
    "      <td>bolsa</td>\n",
    "      <td>taça de vinho</td>\n",
    "      <td>donut</td>\n",
    "    </tr>\n",
    "    <tr>\n",
    "      <td>banco</td>\n",
    "      <td>gravata</td>\n",
    "      <td>copo</td>\n",
    "      <td>bolo</td>\n",
    "    </tr>\n",
    "  </tbody>\n",
    "</table>"
   ]
  },
  {
   "cell_type": "markdown",
   "metadata": {},
   "source": [
    "<link rel=\"stylesheet\" href=\"styles.css\">\n",
    "<h1>Segmentação de objetos</h1>"
   ]
  },
  {
   "cell_type": "markdown",
   "metadata": {},
   "source": [
    "<img src='assets\\Familia.png' width=900 height=800>"
   ]
  },
  {
   "cell_type": "code",
   "execution_count": null,
   "metadata": {},
   "outputs": [],
   "source": [
    "\n",
    "Model = YOLO(\"yolov8x-seg.pt\")\n",
    "\n",
    "results = Model(r'assets\\Familia.png',verbose=True)\n",
    "for result in results:\n",
    "  boxes = result.boxes\n",
    "  result.save(filename=r'assets\\Familia_seg.png')\n",
    "  \n",
    "Image(filename=r'assets\\Familia_seg.png',width=900)"
   ]
  },
  {
   "cell_type": "markdown",
   "metadata": {},
   "source": [
    "<link rel=\"stylesheet\" href=\"styles.css\">\n",
    "<h1> Classes</h1>\n",
    "<table>\n",
    "  <thead>\n",
    "  </thead>\n",
    "  <tbody>\n",
    "    <tr>\n",
    "      <td class=\"achado\">pessoa</td>\n",
    "      <td>pássaro</td>\n",
    "      <td>mala</td>\n",
    "      <td>garfo</td>\n",
    "    </tr>\n",
    "    <tr>\n",
    "      <td>bicicleta</td>\n",
    "      <td class=\"achado\">gato</td>\n",
    "      <td>frisbee</td>\n",
    "      <td>faca</td>\n",
    "    </tr>\n",
    "    <tr>\n",
    "      <td>carro</td>\n",
    "      <td class=\"achado\" >cachorro</td>\n",
    "      <td>esquis</td>\n",
    "      <td>colher</td>\n",
    "    </tr>\n",
    "    <tr>\n",
    "      <td>moto</td>\n",
    "      <td>cavalo</td>\n",
    "      <td>snowboard</td>\n",
    "      <td>tigela</td>\n",
    "    </tr>\n",
    "    <tr>\n",
    "      <td>avião</td>\n",
    "      <td>ovelha</td>\n",
    "      <td>bola esportiva</td>\n",
    "      <td>banana</td>\n",
    "    </tr>\n",
    "    <tr>\n",
    "      <td>ônibus</td>\n",
    "      <td>vaca</td>\n",
    "      <td >pipa</td>\n",
    "      <td>maçã</td>\n",
    "    </tr>\n",
    "    <tr>\n",
    "      <td>trem</td>\n",
    "      <td>elefante</td>\n",
    "      <td>bastão de beisebol</td>\n",
    "      <td>sanduíche</td>\n",
    "    </tr>\n",
    "    <tr>\n",
    "      <td>caminhão</td>\n",
    "      <td>urso</td>\n",
    "      <td>luva de beisebol</td>\n",
    "      <td>laranja</td>\n",
    "    </tr>\n",
    "    <tr>\n",
    "      <td>barco</td>\n",
    "      <td>zebra</td>\n",
    "      <td>skate</td>\n",
    "      <td>brócolis</td>\n",
    "    </tr>\n",
    "    <tr>\n",
    "      <td>semáforo</td>\n",
    "      <td>girafa</td>\n",
    "      <td>prancha de surf</td>\n",
    "      <td>cenoura</td>\n",
    "    </tr>\n",
    "    <tr>\n",
    "      <td>hidrante</td>\n",
    "      <td>mochila</td>\n",
    "      <td>raquete de tênis</td>\n",
    "      <td>cachorro-quente</td>\n",
    "    </tr>\n",
    "    <tr>\n",
    "      <td>placa de parada</td>\n",
    "      <td>guarda-chuva</td>\n",
    "      <td>garrafa</td>\n",
    "      <td>pizza</td>\n",
    "    </tr>\n",
    "    <tr>\n",
    "      <td>parquímetro</td>\n",
    "      <td>bolsa</td>\n",
    "      <td>taça de vinho</td>\n",
    "      <td>donut</td>\n",
    "    </tr>\n",
    "    <tr>\n",
    "      <td>banco</td>\n",
    "      <td class=\"achado\" >gravata</td>\n",
    "      <td>copo</td>\n",
    "      <td>bolo</td>\n",
    "    </tr>\n",
    "  </tbody>\n",
    "</table>"
   ]
  },
  {
   "cell_type": "code",
   "execution_count": null,
   "metadata": {},
   "outputs": [],
   "source": [
    "\n",
    "Model = YOLO(\"yolov8x-pose.pt\")\n",
    "\n",
    "results = Model(r'assets\\kite.jpg')\n",
    "for result in results:\n",
    "  boxes = result.boxes\n",
    "  result.save(filename=r'assets\\kite_pose.jpg')\n",
    "  clear_output()\n",
    "Image(filename=r'assets\\kite_pose.jpg',width=900)"
   ]
  },
  {
   "cell_type": "markdown",
   "metadata": {},
   "source": [
    "## Aplicando em videos"
   ]
  },
  {
   "cell_type": "markdown",
   "metadata": {},
   "source": [
    "<video width=\"1280 \" height=\"800\" controls>\n",
    "    <source src=\"assets\\Vídeos Ilustrativos.mp4\" type=\"video/mp4\">\n",
    "    Seu navegador não suporta o elemento de vídeo.\n",
    "</video>"
   ]
  },
  {
   "cell_type": "code",
   "execution_count": null,
   "metadata": {},
   "outputs": [],
   "source": [
    "\n",
    "Model = YOLO(\"yolov8n.pt\")\n",
    "try:\n",
    "    results = Model(r'assets\\Vídeos Ilustrativos.mp4',show=False,save= True,stream=True )\n",
    "    for r in results:\n",
    "        r.save()\n",
    "        boxes = r.boxes  # Boxes object for bbox outputs\n",
    "        masks = r.masks  # Masks object for segment masks outputs\n",
    "        probs = r.probs  # Class probabilities for classification outputs\n",
    "        clear_output()\n",
    "except:\n",
    "    pass\n",
    "\n"
   ]
  },
  {
   "cell_type": "markdown",
   "metadata": {},
   "source": [
    "<video width=\"1280 \" height=\"800\" controls>\n",
    "    <source src=\"runs\\detect\\Modelo X\\Vídeos-Ilustrativos.mp4\" type=\"video/mp4\">\n",
    "    Seu navegador não suporta o elemento de vídeo.\n",
    "</video>"
   ]
  },
  {
   "cell_type": "markdown",
   "metadata": {},
   "source": [
    "## Ultilizando a webcam"
   ]
  },
  {
   "cell_type": "code",
   "execution_count": null,
   "metadata": {},
   "outputs": [],
   "source": [
    "\n",
    "Model = YOLO(\"yolov8n.pt\")\n",
    "\n",
    "try:\n",
    "    results = Model(source=0,show=True,save= False, conf=0.6,stream=True)\n",
    "    for r in results:\n",
    "        boxes = r.boxes  # Boxes object for bbox outputs\n",
    "        masks = r.masks  # Masks object for segment masks outputs\n",
    "        probs = r.probs  # Class probabilities for classification outputs\n",
    "\n",
    "        clear_output()\n",
    "except:\n",
    "    pass\n"
   ]
  },
  {
   "cell_type": "markdown",
   "metadata": {},
   "source": [
    "# Modelo customizado"
   ]
  },
  {
   "cell_type": "markdown",
   "metadata": {},
   "source": [
    "## Criando dataset"
   ]
  },
  {
   "cell_type": "markdown",
   "metadata": {},
   "source": [
    "<a href=\"https://github.com/HumanSignal/labelImg\">\n",
    "<img src=\"assets\\labelimg.png\">\n",
    "</a>"
   ]
  },
  {
   "cell_type": "markdown",
   "metadata": {},
   "source": [
    "<a href=\"https://roboflow.com/\">\n",
    "<img src=\"assets\\roboflow.png\" width=1100>\n",
    "</a>"
   ]
  },
  {
   "cell_type": "markdown",
   "metadata": {},
   "source": [
    "\n",
    "<img src=\"assets\\img_label.png\" width=1920>\n"
   ]
  },
  {
   "cell_type": "markdown",
   "metadata": {},
   "source": [
    "## download datasets"
   ]
  },
  {
   "cell_type": "markdown",
   "metadata": {},
   "source": [
    "<a href=\"https://universe.roboflow.com/nacho-escobar/mascarilla_con_sin_incorrecta\">\n",
    "<img src=\"assets\\dataset.png\">\n",
    "</a>"
   ]
  },
  {
   "cell_type": "code",
   "execution_count": null,
   "metadata": {},
   "outputs": [],
   "source": [
    "import os\n",
    "from dotenv import load_dotenv\n",
    "from roboflow import Roboflow\n",
    "import yaml\n",
    "\n",
    "load_dotenv()\n",
    "\n",
    "api_key = os.getenv(\"ROBOFLOW_API_KEY\")\n",
    "\n",
    "\n",
    "rf = Roboflow(api_key=api_key)\n",
    "project = rf.workspace(\"nacho-escobar\").project(\"mascarilla_con_sin_incorrecta\")\n",
    "version = project.version(10)\n",
    "dataset = version.download(\"yolov8\")\n",
    "\n",
    "\n",
    "yaml_path = os.path.join(dataset.location, \"data.yaml\")\n",
    "\n",
    "\n",
    "with open(yaml_path, \"r\") as file:\n",
    "    data = yaml.safe_load(file)\n",
    "\n",
    "data[\"train\"] = \"train/images\"\n",
    "data[\"val\"] = \"valid/images\"\n",
    "data[\"test\"] = \"test/images\"\n",
    "\n",
    "# Salvar as alterações no mesmo arquivo YAML\n",
    "with open(yaml_path, \"w\") as file:\n",
    "    yaml.dump(data, file)"
   ]
  },
  {
   "cell_type": "markdown",
   "metadata": {},
   "source": [
    "## Trenamento"
   ]
  },
  {
   "cell_type": "code",
   "execution_count": null,
   "metadata": {},
   "outputs": [],
   "source": [
    "import os\n",
    "from ultralytics import YOLO\n",
    "\n",
    "\n",
    "base_dir = os.getcwd()  \n",
    "yaml_path = os.path.join(base_dir, \"mascarilla_con_sin_incorrecta-10\", \"data.yaml\")\n",
    "\n",
    "\n",
    "model = YOLO(\"yolov8n.pt\")\n",
    "try:\n",
    "  results = model.train(data=yaml_path, epochs=300, imgsz=640, project='segundo_treinamento/', resume=True, patience=10, device='cpu')\n",
    "except:\n",
    "  results = model.train(data=yaml_path, epochs=300, imgsz=640, project='segundo_treinamento/', resume=False, patience=10, device='cpu')"
   ]
  },
  {
   "cell_type": "markdown",
   "metadata": {},
   "source": [
    "<img src=\"assets\\resultado_treinamento.jpg\" width=1200>"
   ]
  },
  {
   "cell_type": "code",
   "execution_count": 16,
   "metadata": {},
   "outputs": [],
   "source": [
    "\n",
    "Model = YOLO(r\"treinamento\\treino\\train\\weights\\best.pt\")\n",
    "\n",
    "try:\n",
    "    results = Model(source=0,show=True,save= False, conf=0.6,stream=True)\n",
    "    for r in results:\n",
    "        boxes = r.boxes  # Boxes object for bbox outputs\n",
    "        masks = r.masks  # Masks object for segment masks outputs\n",
    "        probs = r.probs  # Class probabilities for classification outputs\n",
    "\n",
    "        clear_output()\n",
    "except:\n",
    "    pass\n"
   ]
  }
 ],
 "metadata": {
  "kernelspec": {
   "display_name": "venv",
   "language": "python",
   "name": "python3"
  },
  "language_info": {
   "codemirror_mode": {
    "name": "ipython",
    "version": 3
   },
   "file_extension": ".py",
   "mimetype": "text/x-python",
   "name": "python",
   "nbconvert_exporter": "python",
   "pygments_lexer": "ipython3",
   "version": "3.10.0"
  }
 },
 "nbformat": 4,
 "nbformat_minor": 2
}
