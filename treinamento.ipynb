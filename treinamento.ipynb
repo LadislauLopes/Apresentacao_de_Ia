{
 "cells": [
  {
   "cell_type": "code",
   "execution_count": null,
   "metadata": {},
   "outputs": [],
   "source": [
    "!pip install roboflow --quiet\n",
    "!pip install ultralytics --quiet\n",
    "!pip install roboflow --quiet\n",
    "!pip install PyYAML --quiet"
   ]
  },
  {
   "cell_type": "code",
   "execution_count": null,
   "metadata": {},
   "outputs": [],
   "source": [
    "import os\n",
    "from roboflow import Roboflow\n",
    "import yaml\n",
    "\n",
    "\n",
    "api_key = 'Sm5JJx25T5JYLGbpdTsz'\n",
    "\n",
    "\n",
    "rf = Roboflow(api_key=api_key)\n",
    "project = rf.workspace(\"nacho-escobar\").project(\"mascarilla_con_sin_incorrecta\")\n",
    "version = project.version(10)\n",
    "dataset = version.download(\"yolov8\")\n",
    "\n",
    "# Caminho para o arquivo YAML baixado\n",
    "yaml_path = os.path.join(dataset.location, \"data.yaml\")\n",
    "\n",
    "# Abrir o arquivo YAML e modificar os caminhos de 'train', 'val' e 'test'\n",
    "with open(yaml_path, \"r\") as file:\n",
    "    data = yaml.safe_load(file)\n",
    "\n",
    "# Modificar os caminhos relativos para train, val e test\n",
    "data[\"train\"] = \"train/images\"\n",
    "data[\"val\"] = \"valid/images\"\n",
    "data[\"test\"] = \"test/images\"\n",
    "\n",
    "# Salvar as alterações no mesmo arquivo YAML\n",
    "with open(yaml_path, \"w\") as file:\n",
    "    yaml.dump(data, file)"
   ]
  },
  {
   "cell_type": "code",
   "execution_count": null,
   "metadata": {},
   "outputs": [],
   "source": [
    "import os\n",
    "from ultralytics import YOLO\n",
    "\n",
    "\n",
    "base_dir = os.getcwd()  \n",
    "yaml_path = os.path.join(base_dir, \"mascarilla_con_sin_incorrecta-10\", \"data.yaml\")\n",
    "\n",
    "\n",
    "model = YOLO(\"yolov8n.pt\")\n",
    "try:\n",
    "  results = model.train(data=yaml_path, epochs=300, imgsz=640, project='segundo_treinamento/', resume=True, patience=10, device='cpu')\n",
    "except:\n",
    "  results = model.train(data=yaml_path, epochs=300, imgsz=640, project='segundo_treinamento/', resume=False, patience=10, device='cpu')"
   ]
  }
 ],
 "metadata": {
  "kernelspec": {
   "display_name": "venv",
   "language": "python",
   "name": "python3"
  },
  "language_info": {
   "codemirror_mode": {
    "name": "ipython",
    "version": 3
   },
   "file_extension": ".py",
   "mimetype": "text/x-python",
   "name": "python",
   "nbconvert_exporter": "python",
   "pygments_lexer": "ipython3",
   "version": "3.10.0"
  }
 },
 "nbformat": 4,
 "nbformat_minor": 2
}
